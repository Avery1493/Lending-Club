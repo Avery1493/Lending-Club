{
  "nbformat": 4,
  "nbformat_minor": 0,
  "metadata": {
    "colab": {
      "name": "EDA.ipynb",
      "provenance": [],
      "collapsed_sections": [],
      "authorship_tag": "ABX9TyOG4hqF2yhkdduCZTnW0gdY",
      "include_colab_link": true
    },
    "kernelspec": {
      "name": "python3",
      "display_name": "Python 3"
    }
  },
  "cells": [
    {
      "cell_type": "markdown",
      "metadata": {
        "id": "view-in-github",
        "colab_type": "text"
      },
      "source": [
        "<a href=\"https://colab.research.google.com/github/Avery1493/Lending-Club/blob/master/EDA.ipynb\" target=\"_parent\"><img src=\"https://colab.research.google.com/assets/colab-badge.svg\" alt=\"Open In Colab\"/></a>"
      ]
    },
    {
      "cell_type": "markdown",
      "metadata": {
        "id": "RD8B9M8BE3Es"
      },
      "source": [
        "#Lending Club"
      ]
    },
    {
      "cell_type": "code",
      "metadata": {
        "id": "XIv2aC9wFkZL"
      },
      "source": [
        "# Imports \n",
        "import numpy as np\n",
        "import pandas as pd\n",
        "# print(pd.__version__)\n",
        "# !pip freeze |grep pandas\n",
        "file_1_url = \"https://raw.githubusercontent.com/Avery1493/Lending-Club/master/Data/LC2019Q3_Paid_or_Charged_Off\"\n",
        "file_2_url = \"https://raw.githubusercontent.com/Avery1493/Lending-Club/master/Data/LC2019Q4_Paid_or_Charged_Off\""
      ],
      "execution_count": 1,
      "outputs": []
    },
    {
      "cell_type": "code",
      "metadata": {
        "id": "OOSbvKI-Fplh"
      },
      "source": [
        "# CURL SHELL COMMAND -- fast way to see raw contents of a file\n",
        "#!curl https://raw.githubusercontent.com/Avery1493/Lending-Club/master/Data/LC2019Q3_Paid_or_Charged_Off"
      ],
      "execution_count": 2,
      "outputs": []
    },
    {
      "cell_type": "code",
      "metadata": {
        "id": "GoR6soZDGlLt",
        "outputId": "f9b9d12f-9135-48bb-b7d8-53f3c62b49c1",
        "colab": {
          "base_uri": "https://localhost:8080/"
        }
      },
      "source": [
        "# Read in CSVs\n",
        "#help(pd.read_csv)\n",
        "#?pd.read_csv\n",
        "df = pd.read_csv(file_1_url)\n",
        "df2 = pd.read_csv(file_1_url)\n",
        "print(df.shape)\n",
        "print(df2.shape)"
      ],
      "execution_count": 3,
      "outputs": [
        {
          "output_type": "stream",
          "text": [
            "/usr/local/lib/python3.6/dist-packages/IPython/core/interactiveshell.py:2718: DtypeWarning: Columns (144,145,146) have mixed types.Specify dtype option on import or set low_memory=False.\n",
            "  interactivity=interactivity, compiler=compiler, result=result)\n"
          ],
          "name": "stderr"
        },
        {
          "output_type": "stream",
          "text": [
            "(8409, 150)\n",
            "(8409, 150)\n"
          ],
          "name": "stdout"
        }
      ]
    },
    {
      "cell_type": "code",
      "metadata": {
        "id": "mPE7rp48G295",
        "outputId": "4f567c76-72f6-47cb-d98d-9748f22b493b",
        "colab": {
          "base_uri": "https://localhost:8080/",
          "height": 372
        }
      },
      "source": [
        "# Concat dataframes\n",
        "df = pd.concat([df,df2])\n",
        "print(df.shape)\n",
        "df.reset_index().tail(5)"
      ],
      "execution_count": 4,
      "outputs": [
        {
          "output_type": "stream",
          "text": [
            "(16818, 150)\n"
          ],
          "name": "stdout"
        },
        {
          "output_type": "execute_result",
          "data": {
            "text/html": [
              "<div>\n",
              "<style scoped>\n",
              "    .dataframe tbody tr th:only-of-type {\n",
              "        vertical-align: middle;\n",
              "    }\n",
              "\n",
              "    .dataframe tbody tr th {\n",
              "        vertical-align: top;\n",
              "    }\n",
              "\n",
              "    .dataframe thead th {\n",
              "        text-align: right;\n",
              "    }\n",
              "</style>\n",
              "<table border=\"1\" class=\"dataframe\">\n",
              "  <thead>\n",
              "    <tr style=\"text-align: right;\">\n",
              "      <th></th>\n",
              "      <th>index</th>\n",
              "      <th>id</th>\n",
              "      <th>member_id</th>\n",
              "      <th>loan_amnt</th>\n",
              "      <th>funded_amnt</th>\n",
              "      <th>funded_amnt_inv</th>\n",
              "      <th>term</th>\n",
              "      <th>int_rate</th>\n",
              "      <th>installment</th>\n",
              "      <th>grade</th>\n",
              "      <th>sub_grade</th>\n",
              "      <th>emp_title</th>\n",
              "      <th>emp_length</th>\n",
              "      <th>home_ownership</th>\n",
              "      <th>annual_inc</th>\n",
              "      <th>verification_status</th>\n",
              "      <th>issue_d</th>\n",
              "      <th>loan_status</th>\n",
              "      <th>pymnt_plan</th>\n",
              "      <th>url</th>\n",
              "      <th>desc</th>\n",
              "      <th>purpose</th>\n",
              "      <th>title</th>\n",
              "      <th>zip_code</th>\n",
              "      <th>addr_state</th>\n",
              "      <th>dti</th>\n",
              "      <th>delinq_2yrs</th>\n",
              "      <th>earliest_cr_line</th>\n",
              "      <th>fico_range_low</th>\n",
              "      <th>fico_range_high</th>\n",
              "      <th>inq_last_6mths</th>\n",
              "      <th>mths_since_last_delinq</th>\n",
              "      <th>mths_since_last_record</th>\n",
              "      <th>open_acc</th>\n",
              "      <th>pub_rec</th>\n",
              "      <th>revol_bal</th>\n",
              "      <th>revol_util</th>\n",
              "      <th>total_acc</th>\n",
              "      <th>initial_list_status</th>\n",
              "      <th>out_prncp</th>\n",
              "      <th>...</th>\n",
              "      <th>tax_liens</th>\n",
              "      <th>tot_hi_cred_lim</th>\n",
              "      <th>total_bal_ex_mort</th>\n",
              "      <th>total_bc_limit</th>\n",
              "      <th>total_il_high_credit_limit</th>\n",
              "      <th>revol_bal_joint</th>\n",
              "      <th>sec_app_fico_range_low</th>\n",
              "      <th>sec_app_fico_range_high</th>\n",
              "      <th>sec_app_earliest_cr_line</th>\n",
              "      <th>sec_app_inq_last_6mths</th>\n",
              "      <th>sec_app_mort_acc</th>\n",
              "      <th>sec_app_open_acc</th>\n",
              "      <th>sec_app_revol_util</th>\n",
              "      <th>sec_app_open_act_il</th>\n",
              "      <th>sec_app_num_rev_accts</th>\n",
              "      <th>sec_app_chargeoff_within_12_mths</th>\n",
              "      <th>sec_app_collections_12_mths_ex_med</th>\n",
              "      <th>sec_app_mths_since_last_major_derog</th>\n",
              "      <th>hardship_flag</th>\n",
              "      <th>hardship_type</th>\n",
              "      <th>hardship_reason</th>\n",
              "      <th>hardship_status</th>\n",
              "      <th>deferral_term</th>\n",
              "      <th>hardship_amount</th>\n",
              "      <th>hardship_start_date</th>\n",
              "      <th>hardship_end_date</th>\n",
              "      <th>payment_plan_start_date</th>\n",
              "      <th>hardship_length</th>\n",
              "      <th>hardship_dpd</th>\n",
              "      <th>hardship_loan_status</th>\n",
              "      <th>orig_projected_additional_accrued_interest</th>\n",
              "      <th>hardship_payoff_balance_amount</th>\n",
              "      <th>hardship_last_payment_amount</th>\n",
              "      <th>debt_settlement_flag</th>\n",
              "      <th>debt_settlement_flag_date</th>\n",
              "      <th>settlement_status</th>\n",
              "      <th>settlement_date</th>\n",
              "      <th>settlement_amount</th>\n",
              "      <th>settlement_percentage</th>\n",
              "      <th>settlement_term</th>\n",
              "    </tr>\n",
              "  </thead>\n",
              "  <tbody>\n",
              "    <tr>\n",
              "      <th>16813</th>\n",
              "      <td>8404</td>\n",
              "      <td>154311563</td>\n",
              "      <td>NaN</td>\n",
              "      <td>6000</td>\n",
              "      <td>6000</td>\n",
              "      <td>6000.0</td>\n",
              "      <td>36 months</td>\n",
              "      <td>20.00%</td>\n",
              "      <td>222.99</td>\n",
              "      <td>D</td>\n",
              "      <td>D2</td>\n",
              "      <td>Sales Manager</td>\n",
              "      <td>10+ years</td>\n",
              "      <td>OWN</td>\n",
              "      <td>120000.0</td>\n",
              "      <td>Not Verified</td>\n",
              "      <td>Jul-2019</td>\n",
              "      <td>Fully Paid</td>\n",
              "      <td>n</td>\n",
              "      <td>https://lendingclub.com/browse/loanDetail.acti...</td>\n",
              "      <td>NaN</td>\n",
              "      <td>medical</td>\n",
              "      <td>Medical expenses</td>\n",
              "      <td>707xx</td>\n",
              "      <td>LA</td>\n",
              "      <td>25.14</td>\n",
              "      <td>0</td>\n",
              "      <td>Dec-2001</td>\n",
              "      <td>705</td>\n",
              "      <td>709</td>\n",
              "      <td>0</td>\n",
              "      <td>NaN</td>\n",
              "      <td>NaN</td>\n",
              "      <td>8</td>\n",
              "      <td>0</td>\n",
              "      <td>18852</td>\n",
              "      <td>83.4%</td>\n",
              "      <td>19</td>\n",
              "      <td>w</td>\n",
              "      <td>0.0</td>\n",
              "      <td>...</td>\n",
              "      <td>0</td>\n",
              "      <td>251077</td>\n",
              "      <td>79810</td>\n",
              "      <td>17600</td>\n",
              "      <td>84477</td>\n",
              "      <td>NaN</td>\n",
              "      <td>NaN</td>\n",
              "      <td>NaN</td>\n",
              "      <td>NaN</td>\n",
              "      <td>NaN</td>\n",
              "      <td>NaN</td>\n",
              "      <td>NaN</td>\n",
              "      <td>NaN</td>\n",
              "      <td>NaN</td>\n",
              "      <td>NaN</td>\n",
              "      <td>NaN</td>\n",
              "      <td>NaN</td>\n",
              "      <td>NaN</td>\n",
              "      <td>N</td>\n",
              "      <td>NaN</td>\n",
              "      <td>NaN</td>\n",
              "      <td>NaN</td>\n",
              "      <td>NaN</td>\n",
              "      <td>NaN</td>\n",
              "      <td>NaN</td>\n",
              "      <td>NaN</td>\n",
              "      <td>NaN</td>\n",
              "      <td>NaN</td>\n",
              "      <td>NaN</td>\n",
              "      <td>NaN</td>\n",
              "      <td>NaN</td>\n",
              "      <td>NaN</td>\n",
              "      <td>NaN</td>\n",
              "      <td>N</td>\n",
              "      <td>NaN</td>\n",
              "      <td>NaN</td>\n",
              "      <td>NaN</td>\n",
              "      <td>NaN</td>\n",
              "      <td>NaN</td>\n",
              "      <td>NaN</td>\n",
              "    </tr>\n",
              "    <tr>\n",
              "      <th>16814</th>\n",
              "      <td>8405</td>\n",
              "      <td>153817414</td>\n",
              "      <td>NaN</td>\n",
              "      <td>12000</td>\n",
              "      <td>12000</td>\n",
              "      <td>12000.0</td>\n",
              "      <td>60 months</td>\n",
              "      <td>15.24%</td>\n",
              "      <td>287.00</td>\n",
              "      <td>C</td>\n",
              "      <td>C2</td>\n",
              "      <td>Letter Carrier</td>\n",
              "      <td>6 years</td>\n",
              "      <td>MORTGAGE</td>\n",
              "      <td>65000.0</td>\n",
              "      <td>Not Verified</td>\n",
              "      <td>Jul-2019</td>\n",
              "      <td>Fully Paid</td>\n",
              "      <td>n</td>\n",
              "      <td>https://lendingclub.com/browse/loanDetail.acti...</td>\n",
              "      <td>NaN</td>\n",
              "      <td>debt_consolidation</td>\n",
              "      <td>Debt consolidation</td>\n",
              "      <td>441xx</td>\n",
              "      <td>OH</td>\n",
              "      <td>15.75</td>\n",
              "      <td>0</td>\n",
              "      <td>Dec-2006</td>\n",
              "      <td>710</td>\n",
              "      <td>714</td>\n",
              "      <td>0</td>\n",
              "      <td>31.0</td>\n",
              "      <td>NaN</td>\n",
              "      <td>8</td>\n",
              "      <td>0</td>\n",
              "      <td>1317</td>\n",
              "      <td>15.7%</td>\n",
              "      <td>18</td>\n",
              "      <td>w</td>\n",
              "      <td>0.0</td>\n",
              "      <td>...</td>\n",
              "      <td>0</td>\n",
              "      <td>143312</td>\n",
              "      <td>23919</td>\n",
              "      <td>5000</td>\n",
              "      <td>27655</td>\n",
              "      <td>NaN</td>\n",
              "      <td>NaN</td>\n",
              "      <td>NaN</td>\n",
              "      <td>NaN</td>\n",
              "      <td>NaN</td>\n",
              "      <td>NaN</td>\n",
              "      <td>NaN</td>\n",
              "      <td>NaN</td>\n",
              "      <td>NaN</td>\n",
              "      <td>NaN</td>\n",
              "      <td>NaN</td>\n",
              "      <td>NaN</td>\n",
              "      <td>NaN</td>\n",
              "      <td>N</td>\n",
              "      <td>NaN</td>\n",
              "      <td>NaN</td>\n",
              "      <td>NaN</td>\n",
              "      <td>NaN</td>\n",
              "      <td>NaN</td>\n",
              "      <td>NaN</td>\n",
              "      <td>NaN</td>\n",
              "      <td>NaN</td>\n",
              "      <td>NaN</td>\n",
              "      <td>NaN</td>\n",
              "      <td>NaN</td>\n",
              "      <td>NaN</td>\n",
              "      <td>NaN</td>\n",
              "      <td>NaN</td>\n",
              "      <td>N</td>\n",
              "      <td>NaN</td>\n",
              "      <td>NaN</td>\n",
              "      <td>NaN</td>\n",
              "      <td>NaN</td>\n",
              "      <td>NaN</td>\n",
              "      <td>NaN</td>\n",
              "    </tr>\n",
              "    <tr>\n",
              "      <th>16815</th>\n",
              "      <td>8406</td>\n",
              "      <td>154053832</td>\n",
              "      <td>NaN</td>\n",
              "      <td>15000</td>\n",
              "      <td>15000</td>\n",
              "      <td>15000.0</td>\n",
              "      <td>36 months</td>\n",
              "      <td>8.81%</td>\n",
              "      <td>475.68</td>\n",
              "      <td>A</td>\n",
              "      <td>A5</td>\n",
              "      <td>NaN</td>\n",
              "      <td>NaN</td>\n",
              "      <td>MORTGAGE</td>\n",
              "      <td>42000.0</td>\n",
              "      <td>Not Verified</td>\n",
              "      <td>Jul-2019</td>\n",
              "      <td>Fully Paid</td>\n",
              "      <td>n</td>\n",
              "      <td>https://lendingclub.com/browse/loanDetail.acti...</td>\n",
              "      <td>NaN</td>\n",
              "      <td>debt_consolidation</td>\n",
              "      <td>Debt consolidation</td>\n",
              "      <td>741xx</td>\n",
              "      <td>OK</td>\n",
              "      <td>28.26</td>\n",
              "      <td>0</td>\n",
              "      <td>Dec-2006</td>\n",
              "      <td>775</td>\n",
              "      <td>779</td>\n",
              "      <td>0</td>\n",
              "      <td>36.0</td>\n",
              "      <td>NaN</td>\n",
              "      <td>9</td>\n",
              "      <td>0</td>\n",
              "      <td>697</td>\n",
              "      <td>4.1%</td>\n",
              "      <td>31</td>\n",
              "      <td>w</td>\n",
              "      <td>0.0</td>\n",
              "      <td>...</td>\n",
              "      <td>0</td>\n",
              "      <td>146940</td>\n",
              "      <td>32565</td>\n",
              "      <td>7000</td>\n",
              "      <td>49140</td>\n",
              "      <td>NaN</td>\n",
              "      <td>NaN</td>\n",
              "      <td>NaN</td>\n",
              "      <td>NaN</td>\n",
              "      <td>NaN</td>\n",
              "      <td>NaN</td>\n",
              "      <td>NaN</td>\n",
              "      <td>NaN</td>\n",
              "      <td>NaN</td>\n",
              "      <td>NaN</td>\n",
              "      <td>NaN</td>\n",
              "      <td>NaN</td>\n",
              "      <td>NaN</td>\n",
              "      <td>N</td>\n",
              "      <td>NaN</td>\n",
              "      <td>NaN</td>\n",
              "      <td>NaN</td>\n",
              "      <td>NaN</td>\n",
              "      <td>NaN</td>\n",
              "      <td>NaN</td>\n",
              "      <td>NaN</td>\n",
              "      <td>NaN</td>\n",
              "      <td>NaN</td>\n",
              "      <td>NaN</td>\n",
              "      <td>NaN</td>\n",
              "      <td>NaN</td>\n",
              "      <td>NaN</td>\n",
              "      <td>NaN</td>\n",
              "      <td>N</td>\n",
              "      <td>NaN</td>\n",
              "      <td>NaN</td>\n",
              "      <td>NaN</td>\n",
              "      <td>NaN</td>\n",
              "      <td>NaN</td>\n",
              "      <td>NaN</td>\n",
              "    </tr>\n",
              "    <tr>\n",
              "      <th>16816</th>\n",
              "      <td>8407</td>\n",
              "      <td>154105572</td>\n",
              "      <td>NaN</td>\n",
              "      <td>10000</td>\n",
              "      <td>10000</td>\n",
              "      <td>10000.0</td>\n",
              "      <td>36 months</td>\n",
              "      <td>17.74%</td>\n",
              "      <td>360.23</td>\n",
              "      <td>C</td>\n",
              "      <td>C5</td>\n",
              "      <td>Senior financial analyst</td>\n",
              "      <td>&lt; 1 year</td>\n",
              "      <td>MORTGAGE</td>\n",
              "      <td>110000.0</td>\n",
              "      <td>Not Verified</td>\n",
              "      <td>Jul-2019</td>\n",
              "      <td>Fully Paid</td>\n",
              "      <td>n</td>\n",
              "      <td>https://lendingclub.com/browse/loanDetail.acti...</td>\n",
              "      <td>NaN</td>\n",
              "      <td>debt_consolidation</td>\n",
              "      <td>Debt consolidation</td>\n",
              "      <td>134xx</td>\n",
              "      <td>NY</td>\n",
              "      <td>16.84</td>\n",
              "      <td>0</td>\n",
              "      <td>Mar-2014</td>\n",
              "      <td>665</td>\n",
              "      <td>669</td>\n",
              "      <td>0</td>\n",
              "      <td>34.0</td>\n",
              "      <td>97.0</td>\n",
              "      <td>11</td>\n",
              "      <td>1</td>\n",
              "      <td>7089</td>\n",
              "      <td>92.1%</td>\n",
              "      <td>18</td>\n",
              "      <td>f</td>\n",
              "      <td>0.0</td>\n",
              "      <td>...</td>\n",
              "      <td>0</td>\n",
              "      <td>42860</td>\n",
              "      <td>16624</td>\n",
              "      <td>6100</td>\n",
              "      <td>35160</td>\n",
              "      <td>NaN</td>\n",
              "      <td>NaN</td>\n",
              "      <td>NaN</td>\n",
              "      <td>NaN</td>\n",
              "      <td>NaN</td>\n",
              "      <td>NaN</td>\n",
              "      <td>NaN</td>\n",
              "      <td>NaN</td>\n",
              "      <td>NaN</td>\n",
              "      <td>NaN</td>\n",
              "      <td>NaN</td>\n",
              "      <td>NaN</td>\n",
              "      <td>NaN</td>\n",
              "      <td>N</td>\n",
              "      <td>NaN</td>\n",
              "      <td>NaN</td>\n",
              "      <td>NaN</td>\n",
              "      <td>NaN</td>\n",
              "      <td>NaN</td>\n",
              "      <td>NaN</td>\n",
              "      <td>NaN</td>\n",
              "      <td>NaN</td>\n",
              "      <td>NaN</td>\n",
              "      <td>NaN</td>\n",
              "      <td>NaN</td>\n",
              "      <td>NaN</td>\n",
              "      <td>NaN</td>\n",
              "      <td>NaN</td>\n",
              "      <td>N</td>\n",
              "      <td>NaN</td>\n",
              "      <td>NaN</td>\n",
              "      <td>NaN</td>\n",
              "      <td>NaN</td>\n",
              "      <td>NaN</td>\n",
              "      <td>NaN</td>\n",
              "    </tr>\n",
              "    <tr>\n",
              "      <th>16817</th>\n",
              "      <td>8408</td>\n",
              "      <td>153400333</td>\n",
              "      <td>NaN</td>\n",
              "      <td>31900</td>\n",
              "      <td>31900</td>\n",
              "      <td>31900.0</td>\n",
              "      <td>36 months</td>\n",
              "      <td>17.74%</td>\n",
              "      <td>1149.11</td>\n",
              "      <td>C</td>\n",
              "      <td>C5</td>\n",
              "      <td>Regional Manager</td>\n",
              "      <td>2 years</td>\n",
              "      <td>MORTGAGE</td>\n",
              "      <td>85000.0</td>\n",
              "      <td>Source Verified</td>\n",
              "      <td>Jul-2019</td>\n",
              "      <td>Charged Off</td>\n",
              "      <td>n</td>\n",
              "      <td>https://lendingclub.com/browse/loanDetail.acti...</td>\n",
              "      <td>NaN</td>\n",
              "      <td>home_improvement</td>\n",
              "      <td>Home improvement</td>\n",
              "      <td>330xx</td>\n",
              "      <td>FL</td>\n",
              "      <td>11.44</td>\n",
              "      <td>0</td>\n",
              "      <td>Oct-2002</td>\n",
              "      <td>670</td>\n",
              "      <td>674</td>\n",
              "      <td>0</td>\n",
              "      <td>40.0</td>\n",
              "      <td>39.0</td>\n",
              "      <td>5</td>\n",
              "      <td>1</td>\n",
              "      <td>748</td>\n",
              "      <td>6.2%</td>\n",
              "      <td>43</td>\n",
              "      <td>f</td>\n",
              "      <td>0.0</td>\n",
              "      <td>...</td>\n",
              "      <td>0</td>\n",
              "      <td>61688</td>\n",
              "      <td>47258</td>\n",
              "      <td>12000</td>\n",
              "      <td>49688</td>\n",
              "      <td>NaN</td>\n",
              "      <td>NaN</td>\n",
              "      <td>NaN</td>\n",
              "      <td>NaN</td>\n",
              "      <td>NaN</td>\n",
              "      <td>NaN</td>\n",
              "      <td>NaN</td>\n",
              "      <td>NaN</td>\n",
              "      <td>NaN</td>\n",
              "      <td>NaN</td>\n",
              "      <td>NaN</td>\n",
              "      <td>NaN</td>\n",
              "      <td>NaN</td>\n",
              "      <td>N</td>\n",
              "      <td>NaN</td>\n",
              "      <td>NaN</td>\n",
              "      <td>NaN</td>\n",
              "      <td>NaN</td>\n",
              "      <td>NaN</td>\n",
              "      <td>NaN</td>\n",
              "      <td>NaN</td>\n",
              "      <td>NaN</td>\n",
              "      <td>NaN</td>\n",
              "      <td>NaN</td>\n",
              "      <td>NaN</td>\n",
              "      <td>NaN</td>\n",
              "      <td>NaN</td>\n",
              "      <td>NaN</td>\n",
              "      <td>N</td>\n",
              "      <td>NaN</td>\n",
              "      <td>NaN</td>\n",
              "      <td>NaN</td>\n",
              "      <td>NaN</td>\n",
              "      <td>NaN</td>\n",
              "      <td>NaN</td>\n",
              "    </tr>\n",
              "  </tbody>\n",
              "</table>\n",
              "<p>5 rows × 151 columns</p>\n",
              "</div>"
            ],
            "text/plain": [
              "       index         id  ...  settlement_percentage  settlement_term\n",
              "16813   8404  154311563  ...                    NaN              NaN\n",
              "16814   8405  153817414  ...                    NaN              NaN\n",
              "16815   8406  154053832  ...                    NaN              NaN\n",
              "16816   8407  154105572  ...                    NaN              NaN\n",
              "16817   8408  153400333  ...                    NaN              NaN\n",
              "\n",
              "[5 rows x 151 columns]"
            ]
          },
          "metadata": {
            "tags": []
          },
          "execution_count": 4
        }
      ]
    },
    {
      "cell_type": "markdown",
      "metadata": {
        "id": "iUkbcU9ExDKL"
      },
      "source": [
        "#Cleaning Data\n"
      ]
    },
    {
      "cell_type": "code",
      "metadata": {
        "id": "7gKq9qq9g1yv",
        "outputId": "a279430c-bdd3-457f-8575-8005ab6a36cc",
        "colab": {
          "base_uri": "https://localhost:8080/",
          "height": 0
        }
      },
      "source": [
        "# Reducing features\n",
        "df = df[[\"funded_amnt\", \"installment\", \"term\", \"int_rate\", \"emp_title\", \"emp_length\", \n",
        "    \"home_ownership\", \"annual_inc\", \"title\",\"grade\", \"fico_range_high\", \n",
        "    \"revol_util\", \"mths_since_last_delinq\", \"loan_status\"]]\n",
        "df.head()"
      ],
      "execution_count": 5,
      "outputs": [
        {
          "output_type": "execute_result",
          "data": {
            "text/html": [
              "<div>\n",
              "<style scoped>\n",
              "    .dataframe tbody tr th:only-of-type {\n",
              "        vertical-align: middle;\n",
              "    }\n",
              "\n",
              "    .dataframe tbody tr th {\n",
              "        vertical-align: top;\n",
              "    }\n",
              "\n",
              "    .dataframe thead th {\n",
              "        text-align: right;\n",
              "    }\n",
              "</style>\n",
              "<table border=\"1\" class=\"dataframe\">\n",
              "  <thead>\n",
              "    <tr style=\"text-align: right;\">\n",
              "      <th></th>\n",
              "      <th>funded_amnt</th>\n",
              "      <th>installment</th>\n",
              "      <th>term</th>\n",
              "      <th>int_rate</th>\n",
              "      <th>emp_title</th>\n",
              "      <th>emp_length</th>\n",
              "      <th>home_ownership</th>\n",
              "      <th>annual_inc</th>\n",
              "      <th>title</th>\n",
              "      <th>grade</th>\n",
              "      <th>fico_range_high</th>\n",
              "      <th>revol_util</th>\n",
              "      <th>mths_since_last_delinq</th>\n",
              "      <th>loan_status</th>\n",
              "    </tr>\n",
              "  </thead>\n",
              "  <tbody>\n",
              "    <tr>\n",
              "      <th>0</th>\n",
              "      <td>16000</td>\n",
              "      <td>325.88</td>\n",
              "      <td>60 months</td>\n",
              "      <td>8.19%</td>\n",
              "      <td>Business Agent</td>\n",
              "      <td>2 years</td>\n",
              "      <td>MORTGAGE</td>\n",
              "      <td>116000.0</td>\n",
              "      <td>Credit card refinancing</td>\n",
              "      <td>A</td>\n",
              "      <td>724</td>\n",
              "      <td>20.7%</td>\n",
              "      <td>NaN</td>\n",
              "      <td>Fully Paid</td>\n",
              "    </tr>\n",
              "    <tr>\n",
              "      <th>1</th>\n",
              "      <td>1800</td>\n",
              "      <td>64.84</td>\n",
              "      <td>36 months</td>\n",
              "      <td>17.74%</td>\n",
              "      <td>Utility</td>\n",
              "      <td>4 years</td>\n",
              "      <td>MORTGAGE</td>\n",
              "      <td>70000.0</td>\n",
              "      <td>Medical expenses</td>\n",
              "      <td>C</td>\n",
              "      <td>704</td>\n",
              "      <td>19.6%</td>\n",
              "      <td>23.0</td>\n",
              "      <td>Fully Paid</td>\n",
              "    </tr>\n",
              "    <tr>\n",
              "      <th>2</th>\n",
              "      <td>10000</td>\n",
              "      <td>324.23</td>\n",
              "      <td>36 months</td>\n",
              "      <td>10.33%</td>\n",
              "      <td>NaN</td>\n",
              "      <td>&lt; 1 year</td>\n",
              "      <td>RENT</td>\n",
              "      <td>59300.0</td>\n",
              "      <td>Debt consolidation</td>\n",
              "      <td>B</td>\n",
              "      <td>724</td>\n",
              "      <td>8.9%</td>\n",
              "      <td>41.0</td>\n",
              "      <td>Fully Paid</td>\n",
              "    </tr>\n",
              "    <tr>\n",
              "      <th>3</th>\n",
              "      <td>25000</td>\n",
              "      <td>1044.93</td>\n",
              "      <td>36 months</td>\n",
              "      <td>28.80%</td>\n",
              "      <td>traffic cordinator</td>\n",
              "      <td>10+ years</td>\n",
              "      <td>MORTGAGE</td>\n",
              "      <td>80000.0</td>\n",
              "      <td>Debt consolidation</td>\n",
              "      <td>D</td>\n",
              "      <td>699</td>\n",
              "      <td>85.9%</td>\n",
              "      <td>NaN</td>\n",
              "      <td>Fully Paid</td>\n",
              "    </tr>\n",
              "    <tr>\n",
              "      <th>4</th>\n",
              "      <td>8000</td>\n",
              "      <td>259.38</td>\n",
              "      <td>36 months</td>\n",
              "      <td>10.33%</td>\n",
              "      <td>Processing Manager</td>\n",
              "      <td>6 years</td>\n",
              "      <td>MORTGAGE</td>\n",
              "      <td>116600.0</td>\n",
              "      <td>Debt consolidation</td>\n",
              "      <td>B</td>\n",
              "      <td>704</td>\n",
              "      <td>55%</td>\n",
              "      <td>NaN</td>\n",
              "      <td>Fully Paid</td>\n",
              "    </tr>\n",
              "  </tbody>\n",
              "</table>\n",
              "</div>"
            ],
            "text/plain": [
              "   funded_amnt  installment  ... mths_since_last_delinq loan_status\n",
              "0        16000       325.88  ...                    NaN  Fully Paid\n",
              "1         1800        64.84  ...                   23.0  Fully Paid\n",
              "2        10000       324.23  ...                   41.0  Fully Paid\n",
              "3        25000      1044.93  ...                    NaN  Fully Paid\n",
              "4         8000       259.38  ...                    NaN  Fully Paid\n",
              "\n",
              "[5 rows x 14 columns]"
            ]
          },
          "metadata": {
            "tags": []
          },
          "execution_count": 5
        }
      ]
    },
    {
      "cell_type": "code",
      "metadata": {
        "id": "hxZoKgxhiyLb"
      },
      "source": [
        "# Cleaning\n",
        "# Fill Nans\n",
        "df['emp_length'].fillna(\"1\", inplace = True)\n",
        "df['revol_util'].fillna(\"0%\", inplace = True)\n",
        "\n",
        "def obj_term_to_int(cell_contents):\n",
        "  return int(cell_contents.strip(\" months\"))\n",
        "def obj_rate_to_float(cell_contents):\n",
        "  return float(cell_contents.strip(\"%\"))\n",
        "def obj_len_to_int(cell_contents):\n",
        "  return int(cell_contents.strip(\" years\").strip(\"< \").strip(\"+\"))\n",
        "def clean_title(cell_contents):\n",
        "  if isinstance(cell_contents, str):\n",
        "    return cell_contents.strip().title()\n",
        "  else: \n",
        "    return \"Unknown\"\n",
        "\n",
        "df[\"term\"] = df[\"term\"].apply(obj_term_to_int)\n",
        "df[\"int_rate\"] = df[\"int_rate\"].apply(obj_rate_to_float)\n",
        "df[\"revol_util\"] = df[\"revol_util\"].apply(obj_rate_to_float)\n",
        "df['emp_length'] = df['emp_length'].apply(obj_len_to_int)\n",
        "df[\"emp_title\"] = df[\"emp_title\"].apply(clean_title)\n",
        "df['emp_title'] = df['emp_title'].replace(\"Rn\", \"Registered Nurse\")\n",
        "df[\"annual_inc\"] = df[\"annual_inc\"]/1000"
      ],
      "execution_count": 6,
      "outputs": []
    },
    {
      "cell_type": "code",
      "metadata": {
        "id": "1HtcuGfrf5Pa",
        "outputId": "baf5ca58-5116-4a17-8964-91a24bedb29e",
        "colab": {
          "base_uri": "https://localhost:8080/"
        }
      },
      "source": [
        "df.dtypes"
      ],
      "execution_count": 7,
      "outputs": [
        {
          "output_type": "execute_result",
          "data": {
            "text/plain": [
              "funded_amnt                 int64\n",
              "installment               float64\n",
              "term                        int64\n",
              "int_rate                  float64\n",
              "emp_title                  object\n",
              "emp_length                  int64\n",
              "home_ownership             object\n",
              "annual_inc                float64\n",
              "title                      object\n",
              "grade                      object\n",
              "fico_range_high             int64\n",
              "revol_util                float64\n",
              "mths_since_last_delinq    float64\n",
              "loan_status                object\n",
              "dtype: object"
            ]
          },
          "metadata": {
            "tags": []
          },
          "execution_count": 7
        }
      ]
    },
    {
      "cell_type": "code",
      "metadata": {
        "id": "sF_YvZ-Lf00x",
        "outputId": "4ecc19e3-e1b9-4482-bd78-9a1ce8765416",
        "colab": {
          "base_uri": "https://localhost:8080/",
          "height": 0
        }
      },
      "source": [
        "df.describe()"
      ],
      "execution_count": 8,
      "outputs": [
        {
          "output_type": "execute_result",
          "data": {
            "text/html": [
              "<div>\n",
              "<style scoped>\n",
              "    .dataframe tbody tr th:only-of-type {\n",
              "        vertical-align: middle;\n",
              "    }\n",
              "\n",
              "    .dataframe tbody tr th {\n",
              "        vertical-align: top;\n",
              "    }\n",
              "\n",
              "    .dataframe thead th {\n",
              "        text-align: right;\n",
              "    }\n",
              "</style>\n",
              "<table border=\"1\" class=\"dataframe\">\n",
              "  <thead>\n",
              "    <tr style=\"text-align: right;\">\n",
              "      <th></th>\n",
              "      <th>funded_amnt</th>\n",
              "      <th>installment</th>\n",
              "      <th>term</th>\n",
              "      <th>int_rate</th>\n",
              "      <th>emp_length</th>\n",
              "      <th>annual_inc</th>\n",
              "      <th>fico_range_high</th>\n",
              "      <th>revol_util</th>\n",
              "      <th>mths_since_last_delinq</th>\n",
              "    </tr>\n",
              "  </thead>\n",
              "  <tbody>\n",
              "    <tr>\n",
              "      <th>count</th>\n",
              "      <td>16818.000000</td>\n",
              "      <td>16818.000000</td>\n",
              "      <td>16818.000000</td>\n",
              "      <td>16818.000000</td>\n",
              "      <td>16818.000000</td>\n",
              "      <td>16818.000000</td>\n",
              "      <td>16818.000000</td>\n",
              "      <td>16818.000000</td>\n",
              "      <td>7328.000000</td>\n",
              "    </tr>\n",
              "    <tr>\n",
              "      <th>mean</th>\n",
              "      <td>14140.923415</td>\n",
              "      <td>423.293211</td>\n",
              "      <td>42.210489</td>\n",
              "      <td>13.628699</td>\n",
              "      <td>5.549174</td>\n",
              "      <td>89.684815</td>\n",
              "      <td>716.806874</td>\n",
              "      <td>37.302925</td>\n",
              "      <td>37.587336</td>\n",
              "    </tr>\n",
              "    <tr>\n",
              "      <th>std</th>\n",
              "      <td>9902.307155</td>\n",
              "      <td>286.173272</td>\n",
              "      <td>10.511333</td>\n",
              "      <td>5.369850</td>\n",
              "      <td>3.721818</td>\n",
              "      <td>134.466275</td>\n",
              "      <td>38.165494</td>\n",
              "      <td>25.815071</td>\n",
              "      <td>21.984436</td>\n",
              "    </tr>\n",
              "    <tr>\n",
              "      <th>min</th>\n",
              "      <td>1000.000000</td>\n",
              "      <td>30.890000</td>\n",
              "      <td>36.000000</td>\n",
              "      <td>6.460000</td>\n",
              "      <td>1.000000</td>\n",
              "      <td>0.000000</td>\n",
              "      <td>664.000000</td>\n",
              "      <td>0.000000</td>\n",
              "      <td>1.000000</td>\n",
              "    </tr>\n",
              "    <tr>\n",
              "      <th>25%</th>\n",
              "      <td>6375.000000</td>\n",
              "      <td>213.050000</td>\n",
              "      <td>36.000000</td>\n",
              "      <td>8.810000</td>\n",
              "      <td>2.000000</td>\n",
              "      <td>50.000000</td>\n",
              "      <td>684.000000</td>\n",
              "      <td>16.300000</td>\n",
              "      <td>19.000000</td>\n",
              "    </tr>\n",
              "    <tr>\n",
              "      <th>50%</th>\n",
              "      <td>11500.000000</td>\n",
              "      <td>348.650000</td>\n",
              "      <td>36.000000</td>\n",
              "      <td>12.400000</td>\n",
              "      <td>5.000000</td>\n",
              "      <td>72.000000</td>\n",
              "      <td>709.000000</td>\n",
              "      <td>33.100000</td>\n",
              "      <td>35.000000</td>\n",
              "    </tr>\n",
              "    <tr>\n",
              "      <th>75%</th>\n",
              "      <td>20000.000000</td>\n",
              "      <td>565.640000</td>\n",
              "      <td>60.000000</td>\n",
              "      <td>16.950000</td>\n",
              "      <td>10.000000</td>\n",
              "      <td>102.304000</td>\n",
              "      <td>739.000000</td>\n",
              "      <td>55.400000</td>\n",
              "      <td>55.000000</td>\n",
              "    </tr>\n",
              "    <tr>\n",
              "      <th>max</th>\n",
              "      <td>40000.000000</td>\n",
              "      <td>1604.180000</td>\n",
              "      <td>60.000000</td>\n",
              "      <td>28.800000</td>\n",
              "      <td>10.000000</td>\n",
              "      <td>7272.644000</td>\n",
              "      <td>850.000000</td>\n",
              "      <td>112.800000</td>\n",
              "      <td>160.000000</td>\n",
              "    </tr>\n",
              "  </tbody>\n",
              "</table>\n",
              "</div>"
            ],
            "text/plain": [
              "        funded_amnt   installment  ...    revol_util  mths_since_last_delinq\n",
              "count  16818.000000  16818.000000  ...  16818.000000             7328.000000\n",
              "mean   14140.923415    423.293211  ...     37.302925               37.587336\n",
              "std     9902.307155    286.173272  ...     25.815071               21.984436\n",
              "min     1000.000000     30.890000  ...      0.000000                1.000000\n",
              "25%     6375.000000    213.050000  ...     16.300000               19.000000\n",
              "50%    11500.000000    348.650000  ...     33.100000               35.000000\n",
              "75%    20000.000000    565.640000  ...     55.400000               55.000000\n",
              "max    40000.000000   1604.180000  ...    112.800000              160.000000\n",
              "\n",
              "[8 rows x 9 columns]"
            ]
          },
          "metadata": {
            "tags": []
          },
          "execution_count": 8
        }
      ]
    },
    {
      "cell_type": "code",
      "metadata": {
        "id": "6n_H1uUiKj8n",
        "outputId": "77585512-ac53-4a2e-c8b6-c4c932a7d707",
        "colab": {
          "base_uri": "https://localhost:8080/",
          "height": 0
        }
      },
      "source": [
        "df.describe(exclude=\"number\")"
      ],
      "execution_count": 9,
      "outputs": [
        {
          "output_type": "execute_result",
          "data": {
            "text/html": [
              "<div>\n",
              "<style scoped>\n",
              "    .dataframe tbody tr th:only-of-type {\n",
              "        vertical-align: middle;\n",
              "    }\n",
              "\n",
              "    .dataframe tbody tr th {\n",
              "        vertical-align: top;\n",
              "    }\n",
              "\n",
              "    .dataframe thead th {\n",
              "        text-align: right;\n",
              "    }\n",
              "</style>\n",
              "<table border=\"1\" class=\"dataframe\">\n",
              "  <thead>\n",
              "    <tr style=\"text-align: right;\">\n",
              "      <th></th>\n",
              "      <th>emp_title</th>\n",
              "      <th>home_ownership</th>\n",
              "      <th>title</th>\n",
              "      <th>grade</th>\n",
              "      <th>loan_status</th>\n",
              "    </tr>\n",
              "  </thead>\n",
              "  <tbody>\n",
              "    <tr>\n",
              "      <th>count</th>\n",
              "      <td>16818</td>\n",
              "      <td>16818</td>\n",
              "      <td>16818</td>\n",
              "      <td>16818</td>\n",
              "      <td>16818</td>\n",
              "    </tr>\n",
              "    <tr>\n",
              "      <th>unique</th>\n",
              "      <td>3946</td>\n",
              "      <td>4</td>\n",
              "      <td>12</td>\n",
              "      <td>4</td>\n",
              "      <td>2</td>\n",
              "    </tr>\n",
              "    <tr>\n",
              "      <th>top</th>\n",
              "      <td>Unknown</td>\n",
              "      <td>MORTGAGE</td>\n",
              "      <td>Debt consolidation</td>\n",
              "      <td>B</td>\n",
              "      <td>Fully Paid</td>\n",
              "    </tr>\n",
              "    <tr>\n",
              "      <th>freq</th>\n",
              "      <td>1920</td>\n",
              "      <td>8988</td>\n",
              "      <td>8720</td>\n",
              "      <td>4972</td>\n",
              "      <td>16052</td>\n",
              "    </tr>\n",
              "  </tbody>\n",
              "</table>\n",
              "</div>"
            ],
            "text/plain": [
              "       emp_title home_ownership               title  grade loan_status\n",
              "count      16818          16818               16818  16818       16818\n",
              "unique      3946              4                  12      4           2\n",
              "top      Unknown       MORTGAGE  Debt consolidation      B  Fully Paid\n",
              "freq        1920           8988                8720   4972       16052"
            ]
          },
          "metadata": {
            "tags": []
          },
          "execution_count": 9
        }
      ]
    },
    {
      "cell_type": "code",
      "metadata": {
        "id": "vLiUDV43WcoI",
        "outputId": "89747074-766e-4446-a9f7-a37bdd0b1e4f",
        "colab": {
          "base_uri": "https://localhost:8080/",
          "height": 0
        }
      },
      "source": [
        "pd.crosstab(df[\"home_ownership\"], df[\"emp_length\"])"
      ],
      "execution_count": 10,
      "outputs": [
        {
          "output_type": "execute_result",
          "data": {
            "text/html": [
              "<div>\n",
              "<style scoped>\n",
              "    .dataframe tbody tr th:only-of-type {\n",
              "        vertical-align: middle;\n",
              "    }\n",
              "\n",
              "    .dataframe tbody tr th {\n",
              "        vertical-align: top;\n",
              "    }\n",
              "\n",
              "    .dataframe thead th {\n",
              "        text-align: right;\n",
              "    }\n",
              "</style>\n",
              "<table border=\"1\" class=\"dataframe\">\n",
              "  <thead>\n",
              "    <tr style=\"text-align: right;\">\n",
              "      <th>emp_length</th>\n",
              "      <th>1</th>\n",
              "      <th>2</th>\n",
              "      <th>3</th>\n",
              "      <th>4</th>\n",
              "      <th>5</th>\n",
              "      <th>6</th>\n",
              "      <th>7</th>\n",
              "      <th>8</th>\n",
              "      <th>9</th>\n",
              "      <th>10</th>\n",
              "    </tr>\n",
              "    <tr>\n",
              "      <th>home_ownership</th>\n",
              "      <th></th>\n",
              "      <th></th>\n",
              "      <th></th>\n",
              "      <th></th>\n",
              "      <th></th>\n",
              "      <th></th>\n",
              "      <th></th>\n",
              "      <th></th>\n",
              "      <th></th>\n",
              "      <th></th>\n",
              "    </tr>\n",
              "  </thead>\n",
              "  <tbody>\n",
              "    <tr>\n",
              "      <th>ANY</th>\n",
              "      <td>4</td>\n",
              "      <td>0</td>\n",
              "      <td>0</td>\n",
              "      <td>0</td>\n",
              "      <td>0</td>\n",
              "      <td>0</td>\n",
              "      <td>0</td>\n",
              "      <td>0</td>\n",
              "      <td>0</td>\n",
              "      <td>0</td>\n",
              "    </tr>\n",
              "    <tr>\n",
              "      <th>MORTGAGE</th>\n",
              "      <td>1820</td>\n",
              "      <td>564</td>\n",
              "      <td>576</td>\n",
              "      <td>500</td>\n",
              "      <td>626</td>\n",
              "      <td>442</td>\n",
              "      <td>308</td>\n",
              "      <td>338</td>\n",
              "      <td>262</td>\n",
              "      <td>3552</td>\n",
              "    </tr>\n",
              "    <tr>\n",
              "      <th>OWN</th>\n",
              "      <td>600</td>\n",
              "      <td>160</td>\n",
              "      <td>160</td>\n",
              "      <td>94</td>\n",
              "      <td>126</td>\n",
              "      <td>104</td>\n",
              "      <td>80</td>\n",
              "      <td>68</td>\n",
              "      <td>48</td>\n",
              "      <td>718</td>\n",
              "    </tr>\n",
              "    <tr>\n",
              "      <th>RENT</th>\n",
              "      <td>1668</td>\n",
              "      <td>642</td>\n",
              "      <td>544</td>\n",
              "      <td>362</td>\n",
              "      <td>420</td>\n",
              "      <td>252</td>\n",
              "      <td>204</td>\n",
              "      <td>158</td>\n",
              "      <td>136</td>\n",
              "      <td>1282</td>\n",
              "    </tr>\n",
              "  </tbody>\n",
              "</table>\n",
              "</div>"
            ],
            "text/plain": [
              "emp_length        1    2    3    4    5    6    7    8    9     10\n",
              "home_ownership                                                    \n",
              "ANY                4    0    0    0    0    0    0    0    0     0\n",
              "MORTGAGE        1820  564  576  500  626  442  308  338  262  3552\n",
              "OWN              600  160  160   94  126  104   80   68   48   718\n",
              "RENT            1668  642  544  362  420  252  204  158  136  1282"
            ]
          },
          "metadata": {
            "tags": []
          },
          "execution_count": 10
        }
      ]
    },
    {
      "cell_type": "code",
      "metadata": {
        "id": "MVBhfVJ0K1Y-",
        "outputId": "cfb9d3eb-1960-41c4-81ec-8b28ef1746e1",
        "colab": {
          "base_uri": "https://localhost:8080/"
        }
      },
      "source": [
        "df.isnull().sum()"
      ],
      "execution_count": 11,
      "outputs": [
        {
          "output_type": "execute_result",
          "data": {
            "text/plain": [
              "funded_amnt                  0\n",
              "installment                  0\n",
              "term                         0\n",
              "int_rate                     0\n",
              "emp_title                    0\n",
              "emp_length                   0\n",
              "home_ownership               0\n",
              "annual_inc                   0\n",
              "title                        0\n",
              "grade                        0\n",
              "fico_range_high              0\n",
              "revol_util                   0\n",
              "mths_since_last_delinq    9490\n",
              "loan_status                  0\n",
              "dtype: int64"
            ]
          },
          "metadata": {
            "tags": []
          },
          "execution_count": 11
        }
      ]
    },
    {
      "cell_type": "markdown",
      "metadata": {
        "id": "cE-vc26622fn"
      },
      "source": [
        "# Plots"
      ]
    },
    {
      "cell_type": "code",
      "metadata": {
        "id": "T4j788FraN2a",
        "outputId": "51eaa3fa-dcdc-4931-a1ef-7c8e6954e5e9",
        "colab": {
          "base_uri": "https://localhost:8080/",
          "height": 265
        }
      },
      "source": [
        "#plot(kind=\"barh\");\n",
        "#plot.density()\n",
        "#plot.scatter(\"\",\"\")\n",
        "#.hist();\n",
        "#pd.crosstab().plot();\n",
        "# decending order / order by index \n",
        "df[\"funded_amnt\"].value_counts().sort_index().plot();"
      ],
      "execution_count": null,
      "outputs": [
        {
          "output_type": "display_data",
          "data": {
            "image/png": "[encoded data removed]",
            "text/plain": [
              "<Figure size 432x288 with 1 Axes>"
            ]
          },
          "metadata": {
            "tags": [],
            "needs_background": "light"
          }
        }
      ]
    },
    {
      "cell_type": "code",
      "metadata": {
        "id": "2E8iINEsbTSm",
        "outputId": "bd0a2b98-5802-4338-aeb8-bd978b612106",
        "colab": {
          "base_uri": "https://localhost:8080/",
          "height": 266
        }
      },
      "source": [
        "df[\"int_rate\"].hist(bins = 40);"
      ],
      "execution_count": null,
      "outputs": [
        {
          "output_type": "display_data",
          "data": {
            "image/png": "[encoded data removed]",
            "text/plain": [
              "<Figure size 432x288 with 1 Axes>"
            ]
          },
          "metadata": {
            "tags": [],
            "needs_background": "light"
          }
        }
      ]
    },
    {
      "cell_type": "code",
      "metadata": {
        "id": "t9NP1hgvb-Oj",
        "outputId": "7bac82b6-847d-4ffb-a5f2-daed9996c88a",
        "colab": {
          "base_uri": "https://localhost:8080/",
          "height": 276
        }
      },
      "source": [
        "df[\"funded_amnt\"].plot.density();"
      ],
      "execution_count": null,
      "outputs": [
        {
          "output_type": "display_data",
          "data": {
            "image/png": "[encoded data removed]",
            "text/plain": [
              "<Figure size 432x288 with 1 Axes>"
            ]
          },
          "metadata": {
            "tags": [],
            "needs_background": "light"
          }
        }
      ]
    },
    {
      "cell_type": "markdown",
      "metadata": {
        "id": "pPPmdksN2_u0"
      },
      "source": [
        "# Statistical Tests"
      ]
    },
    {
      "cell_type": "markdown",
      "metadata": {
        "id": "4kyJ_I7Py0QM"
      },
      "source": [
        "## One Sample TTest"
      ]
    },
    {
      "cell_type": "code",
      "metadata": {
        "id": "ya7QyZP93Fmj",
        "outputId": "910021b3-f4b7-4e90-8f8f-67355a0a2d75",
        "colab": {
          "base_uri": "https://localhost:8080/",
          "height": 247
        }
      },
      "source": [
        "df.sample(3)"
      ],
      "execution_count": 26,
      "outputs": [
        {
          "output_type": "execute_result",
          "data": {
            "text/html": [
              "<div>\n",
              "<style scoped>\n",
              "    .dataframe tbody tr th:only-of-type {\n",
              "        vertical-align: middle;\n",
              "    }\n",
              "\n",
              "    .dataframe tbody tr th {\n",
              "        vertical-align: top;\n",
              "    }\n",
              "\n",
              "    .dataframe thead th {\n",
              "        text-align: right;\n",
              "    }\n",
              "</style>\n",
              "<table border=\"1\" class=\"dataframe\">\n",
              "  <thead>\n",
              "    <tr style=\"text-align: right;\">\n",
              "      <th></th>\n",
              "      <th>funded_amnt</th>\n",
              "      <th>installment</th>\n",
              "      <th>term</th>\n",
              "      <th>int_rate</th>\n",
              "      <th>emp_title</th>\n",
              "      <th>emp_length</th>\n",
              "      <th>home_ownership</th>\n",
              "      <th>annual_inc</th>\n",
              "      <th>title</th>\n",
              "      <th>grade</th>\n",
              "      <th>fico_range_high</th>\n",
              "      <th>revol_util</th>\n",
              "      <th>mths_since_last_delinq</th>\n",
              "      <th>loan_status</th>\n",
              "    </tr>\n",
              "  </thead>\n",
              "  <tbody>\n",
              "    <tr>\n",
              "      <th>2494</th>\n",
              "      <td>15350</td>\n",
              "      <td>477.91</td>\n",
              "      <td>36</td>\n",
              "      <td>7.56</td>\n",
              "      <td>Learning Game Designer</td>\n",
              "      <td>5</td>\n",
              "      <td>MORTGAGE</td>\n",
              "      <td>135.0</td>\n",
              "      <td>Credit card refinancing</td>\n",
              "      <td>A</td>\n",
              "      <td>749</td>\n",
              "      <td>30.7</td>\n",
              "      <td>NaN</td>\n",
              "      <td>Fully Paid</td>\n",
              "    </tr>\n",
              "    <tr>\n",
              "      <th>4473</th>\n",
              "      <td>2500</td>\n",
              "      <td>104.50</td>\n",
              "      <td>36</td>\n",
              "      <td>28.80</td>\n",
              "      <td>Sales</td>\n",
              "      <td>3</td>\n",
              "      <td>MORTGAGE</td>\n",
              "      <td>96.0</td>\n",
              "      <td>Debt consolidation</td>\n",
              "      <td>D</td>\n",
              "      <td>684</td>\n",
              "      <td>63.7</td>\n",
              "      <td>NaN</td>\n",
              "      <td>Fully Paid</td>\n",
              "    </tr>\n",
              "    <tr>\n",
              "      <th>715</th>\n",
              "      <td>12750</td>\n",
              "      <td>404.33</td>\n",
              "      <td>36</td>\n",
              "      <td>8.81</td>\n",
              "      <td>Clinical Initiatives Manager</td>\n",
              "      <td>6</td>\n",
              "      <td>RENT</td>\n",
              "      <td>78.0</td>\n",
              "      <td>Debt consolidation</td>\n",
              "      <td>A</td>\n",
              "      <td>694</td>\n",
              "      <td>55.4</td>\n",
              "      <td>NaN</td>\n",
              "      <td>Fully Paid</td>\n",
              "    </tr>\n",
              "  </tbody>\n",
              "</table>\n",
              "</div>"
            ],
            "text/plain": [
              "      funded_amnt  installment  ...  mths_since_last_delinq  loan_status\n",
              "2494        15350       477.91  ...                     NaN   Fully Paid\n",
              "4473         2500       104.50  ...                     NaN   Fully Paid\n",
              "715         12750       404.33  ...                     NaN   Fully Paid\n",
              "\n",
              "[3 rows x 14 columns]"
            ]
          },
          "metadata": {
            "tags": []
          },
          "execution_count": 26
        }
      ]
    },
    {
      "cell_type": "code",
      "metadata": {
        "id": "2kguGrwvtdCi"
      },
      "source": [
        "from scipy import stats\n",
        "# sample income\n",
        "mean = 89.684815\n",
        "std = 134.466275\n",
        "n = df.shape[0]\n",
        "\n",
        "# US average income (Population \"median income\")\n",
        "US_mean = 63.179"
      ],
      "execution_count": 29,
      "outputs": []
    },
    {
      "cell_type": "code",
      "metadata": {
        "id": "L_eBBnF7veDA",
        "outputId": "0565a797-b6db-4587-d66c-d6e0d0b4beb1",
        "colab": {
          "base_uri": "https://localhost:8080/"
        }
      },
      "source": [
        "### Generate the random test scores with the specified mean, std, and sample size\n",
        "#rvs = stats.norm.rvs(loc=mean,scale=std,size=16818, random_state=42)\n",
        "#print('The mean of the sample: ', rvs.mean())\n",
        "#print('The standard deviation of the sample: ', rvs.std())\n",
        "\n",
        "\n",
        "### NULL HYPOTHISIS\n",
        "# H0 = The mean annual income of Lending Club users is no differnt from the average \n",
        "# annual income of the population.\n",
        "\n",
        "### ALTERNATIVE HYPOTHISIS\n",
        "# H1 = The mean annual income of Lending Club users is differnt from the average \n",
        "# annual income of the population\n",
        "\n",
        "### P Value ~ the probability that our result is statistically significant \n",
        "# alpha = .05 (significance level)\n",
        "\n",
        "### CONCLUSION\n",
        "# The pvalue is less than alpha. This means than we reject the null hypothesis.\n",
        "# The average lending club member has a differnt income from the population.\n",
        "\n",
        "alpha = .05\n",
        "p_value = stats.ttest_1samp(df['annual_inc'], popmean=US_mean)[1]\n",
        "stats.ttest_1samp(df['annual_inc'], popmean=US_mean)"
      ],
      "execution_count": 46,
      "outputs": [
        {
          "output_type": "execute_result",
          "data": {
            "text/plain": [
              "Ttest_1sampResult(statistic=25.563184688364, pvalue=1.9450267726834557e-141)"
            ]
          },
          "metadata": {
            "tags": []
          },
          "execution_count": 46
        }
      ]
    },
    {
      "cell_type": "code",
      "metadata": {
        "id": "4Jb03tn_4Qdb",
        "outputId": "3f159a35-1f2e-4c4a-cd84-408767347b41",
        "colab": {
          "base_uri": "https://localhost:8080/"
        }
      },
      "source": [
        "p_value < alpha"
      ],
      "execution_count": 50,
      "outputs": [
        {
          "output_type": "execute_result",
          "data": {
            "text/plain": [
              "True"
            ]
          },
          "metadata": {
            "tags": []
          },
          "execution_count": 50
        }
      ]
    },
    {
      "cell_type": "code",
      "metadata": {
        "id": "msDrsxs6wbJZ",
        "outputId": "722b3bb2-70c1-4250-df83-b39814c99813",
        "colab": {
          "base_uri": "https://localhost:8080/"
        }
      },
      "source": [
        "### Calculating tvalue by hand\n",
        "### t-value = (sample mean-population mean) / standard error.\n",
        "\n",
        "t_statistic = (mean - US_mean) / (std/np.sqrt(n))\n",
        "print('The t-statistic is: ', t_statistic)"
      ],
      "execution_count": 31,
      "outputs": [
        {
          "output_type": "stream",
          "text": [
            "The t-statistic is:  25.5631849607014\n"
          ],
          "name": "stdout"
        }
      ]
    },
    {
      "cell_type": "markdown",
      "metadata": {
        "id": "NLDbYXDsy6Fp"
      },
      "source": [
        "## Two Sample TTest"
      ]
    },
    {
      "cell_type": "code",
      "metadata": {
        "id": "x4HVyaTE57NS"
      },
      "source": [
        "### NULL HYPOTHISIS\n",
        "# H0 = The mean annual income of mortgage owners is no differnt from the average \n",
        "# annual income of renters.\n",
        "\n",
        "### ALTERNATIVE HYPOTHISIS\n",
        "# H1 = The mean annual income of mortgage owners is differnt from the average \n",
        "# annual income of renters.\n",
        "\n",
        "# alpha = .05 (significance level)\n",
        "\n",
        "### CONCLUSION\n",
        "# The pvalue is less than alpha. This means than we reject the null hypothesis.\n",
        "# The mortgage owners annual income is differnt from renters ."
      ],
      "execution_count": null,
      "outputs": []
    },
    {
      "cell_type": "code",
      "metadata": {
        "id": "oqdJRnUHy8t4",
        "outputId": "23d137db-7ccd-4020-998c-73121eece59c",
        "colab": {
          "base_uri": "https://localhost:8080/"
        }
      },
      "source": [
        "mort= df[df['home_ownership'] == \"MORTGAGE\"]\n",
        "rent= df[df['home_ownership'] == \"RENT\"]\n",
        "print(rent.shape)\n",
        "print(mort.shape)"
      ],
      "execution_count": 36,
      "outputs": [
        {
          "output_type": "stream",
          "text": [
            "(5668, 14)\n",
            "(8988, 14)\n"
          ],
          "name": "stdout"
        }
      ]
    },
    {
      "cell_type": "code",
      "metadata": {
        "id": "0GRwbV4c0U32"
      },
      "source": [
        "rent.describe()\n",
        "mean_1 = 98.297478\n",
        "mean_2 = 77.601826\n",
        "std_1 = 105.190037\t\n",
        "std_2 = 154.810901\n",
        "n_1 = mort.shape[0]\n",
        "n_2 = rent.shape[0]"
      ],
      "execution_count": 41,
      "outputs": []
    },
    {
      "cell_type": "code",
      "metadata": {
        "id": "YE70GIMo00yn",
        "outputId": "939c6de2-8a4f-419a-dde9-839a73bb4abc",
        "colab": {
          "base_uri": "https://localhost:8080/"
        }
      },
      "source": [
        "alpha = .05\n",
        "p_value = stats.ttest_ind(mort['annual_inc'], rent['annual_inc'])[1]\n",
        "stats.ttest_ind(mort['annual_inc'], rent['annual_inc'])"
      ],
      "execution_count": 51,
      "outputs": [
        {
          "output_type": "execute_result",
          "data": {
            "text/plain": [
              "Ttest_indResult(statistic=9.62993652629163, pvalue=6.938577308211866e-22)"
            ]
          },
          "metadata": {
            "tags": []
          },
          "execution_count": 51
        }
      ]
    },
    {
      "cell_type": "code",
      "metadata": {
        "id": "z5ekxv6H00vn",
        "outputId": "3e1303f5-f2fc-4967-fab9-081d271077f1",
        "colab": {
          "base_uri": "https://localhost:8080/"
        }
      },
      "source": [
        "p_value < alpha"
      ],
      "execution_count": 52,
      "outputs": [
        {
          "output_type": "execute_result",
          "data": {
            "text/plain": [
              "True"
            ]
          },
          "metadata": {
            "tags": []
          },
          "execution_count": 52
        }
      ]
    }
  ]
}